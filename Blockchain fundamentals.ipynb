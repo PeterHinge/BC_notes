{
 "cells": [
  {
   "cell_type": "markdown",
   "metadata": {},
   "source": [
    "# Blockchain fundamentals  \n",
    "\n",
    "### Building a basic blockchain form scratch in Python\n",
    "\n",
    "The following is meant to be an entrance level tutorial on programming blockchains from scratch in Python 3 for those interested while at the same time serving as my personal notes.\n",
    "\n",
    "In theory anyone could follow along but if the wish of the reader is to fully understand what’s going on, I recommend a preliminary understanding of blockchains along with some coding knowledge (in particular object oriented programming). \n",
    "\n",
    "First we'll import the time module such that our blockchain can make use of timestamps."
   ]
  },
  {
   "cell_type": "code",
   "execution_count": 1,
   "metadata": {},
   "outputs": [
    {
     "name": "stdout",
     "output_type": "stream",
     "text": [
      "Mon Aug  5 16:14:21 2019\n"
     ]
    }
   ],
   "source": [
    "import time\n",
    "\n",
    "print(time.asctime(time.localtime(time.time())))  # Example"
   ]
  },
  {
   "cell_type": "markdown",
   "metadata": {},
   "source": [
    "Next we'll implement our Block and BlockChain classes. These can simply be seen as a node and linked list class respectively. The only major difference is the \"hashing\" and \"is_valid\" methods. The \"hashing\" method simply creates a hash code checks whether our blockchain has been tampered with (i.e. whether any values of the individual blocks has been altered). The following methods will be included:\n",
    "\n",
    "### Possible methods (Block):\n",
    "<ul>\n",
    "  <li>Hashing</li>\n",
    "</ul>\n",
    "\n",
    "\n",
    "### Possible methods (BlockChain):\n",
    "<ul>\n",
    "  <li>Create genesis block</li>\n",
    "  <li>Add block</li>\n",
    "  <li>Is valid</li>\n",
    "  <li>View chain</li>\n",
    "</ul>"
   ]
  },
  {
   "cell_type": "code",
   "execution_count": 2,
   "metadata": {},
   "outputs": [],
   "source": [
    "class Block:\n",
    "    def __init__(self, data, prev_hash=None):\n",
    "        self.data = data\n",
    "        self.timestamp = time.time()\n",
    "        self.prev_hash = prev_hash\n",
    "        self.hash = self.hashing()\n",
    "        \n",
    "    def hashing(self):\n",
    "        return hash((self.data, self.timestamp, self.prev_hash))  # Creates a hashcode.\n",
    "\n",
    "\n",
    "class BlockChain:\n",
    "    def __init__(self):\n",
    "        self.chain = [self.create_gen_block()]\n",
    "        \n",
    "    def create_gen_block(self):\n",
    "        return Block('Genesis Block')\n",
    "    \n",
    "    def add_block(self, data):\n",
    "        self.chain.append(Block(data, self.chain[-1].hash))\n",
    "        \n",
    "    def is_valid(self):\n",
    "        for i in range(1, len(self.chain)):\n",
    "            prev = self.chain[i-1]\n",
    "            current = self.chain[i]\n",
    "            \n",
    "            if current.hash != current.hashing():  # checks if any values has changed.\n",
    "                return False\n",
    "            \n",
    "            if current.prev_hash != prev.hashing():  # checks if the link has changed.\n",
    "                return False\n",
    "        \n",
    "        return True\n",
    "    \n",
    "    def view_chain(self):\n",
    "        for block in self.chain:\n",
    "            print(vars(block))"
   ]
  },
  {
   "cell_type": "markdown",
   "metadata": {},
   "source": [
    "Alright, let's start by instanciating a BlockChain and create its genesis block:"
   ]
  },
  {
   "cell_type": "code",
   "execution_count": 3,
   "metadata": {},
   "outputs": [
    {
     "name": "stdout",
     "output_type": "stream",
     "text": [
      "{'data': 'Genesis Block', 'timestamp': 1565014461.043831, 'prev_hash': None, 'hash': -1725423440436600648}\n"
     ]
    }
   ],
   "source": [
    "bc = BlockChain()\n",
    "bc.create_gen_block()\n",
    "bc.view_chain()"
   ]
  },
  {
   "cell_type": "markdown",
   "metadata": {},
   "source": [
    "Let's add some blocks and see what happens to the chains validity if we change something:"
   ]
  },
  {
   "cell_type": "code",
   "execution_count": 4,
   "metadata": {},
   "outputs": [
    {
     "name": "stdout",
     "output_type": "stream",
     "text": [
      "{'data': 'Genesis Block', 'timestamp': 1565014461.043831, 'prev_hash': None, 'hash': -1725423440436600648}\n",
      "{'data': 'Block1', 'timestamp': 1565014461.0538442, 'prev_hash': -1725423440436600648, 'hash': -6241096074819502533}\n",
      "{'data': 'Block2', 'timestamp': 1565014461.0538442, 'prev_hash': -6241096074819502533, 'hash': -3395706269202915692}\n",
      "{'data': 'Block3', 'timestamp': 1565014461.0538442, 'prev_hash': -3395706269202915692, 'hash': 2797896728360191674}\n"
     ]
    },
    {
     "data": {
      "text/plain": [
       "True"
      ]
     },
     "execution_count": 4,
     "metadata": {},
     "output_type": "execute_result"
    }
   ],
   "source": [
    "bc.add_block(\"Block1\")\n",
    "bc.add_block(\"Block2\")\n",
    "bc.add_block(\"Block3\")\n",
    "bc.view_chain()\n",
    "bc.is_valid()"
   ]
  },
  {
   "cell_type": "code",
   "execution_count": 5,
   "metadata": {},
   "outputs": [
    {
     "name": "stdout",
     "output_type": "stream",
     "text": [
      "{'data': 'Genesis Block', 'timestamp': 1565014461.043831, 'prev_hash': None, 'hash': -1725423440436600648}\n",
      "{'data': 'Block4', 'timestamp': 1565014461.0538442, 'prev_hash': -1725423440436600648, 'hash': -6241096074819502533}\n",
      "{'data': 'Block2', 'timestamp': 1565014461.0538442, 'prev_hash': -6241096074819502533, 'hash': -3395706269202915692}\n",
      "{'data': 'Block3', 'timestamp': 1565014461.0538442, 'prev_hash': -3395706269202915692, 'hash': 2797896728360191674}\n"
     ]
    },
    {
     "data": {
      "text/plain": [
       "False"
      ]
     },
     "execution_count": 5,
     "metadata": {},
     "output_type": "execute_result"
    }
   ],
   "source": [
    "bc.chain[1].data = \"Block4\"\n",
    "bc.view_chain()\n",
    "bc.is_valid()"
   ]
  },
  {
   "cell_type": "markdown",
   "metadata": {},
   "source": [
    "So even though our chain remains intact structurally, a change to any particular part of the chain results in its invalidity."
   ]
  }
 ],
 "metadata": {
  "kernelspec": {
   "display_name": "Python 3",
   "language": "python",
   "name": "python3"
  },
  "language_info": {
   "codemirror_mode": {
    "name": "ipython",
    "version": 3
   },
   "file_extension": ".py",
   "mimetype": "text/x-python",
   "name": "python",
   "nbconvert_exporter": "python",
   "pygments_lexer": "ipython3",
   "version": "3.7.3"
  }
 },
 "nbformat": 4,
 "nbformat_minor": 2
}
