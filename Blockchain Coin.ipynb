{
 "cells": [
  {
   "cell_type": "markdown",
   "metadata": {},
   "source": [
    "# Blockchain Coins\n",
    "\n",
    "### Building a blockchain coin form scratch in Python\n",
    "\n",
    "It is recommented that the reader has read Blockchain fundamentals, as the bisac structure is similar just with an appopriat vocabulary. Furthermore, there are a few additions worth explaining.\n",
    "\n",
    "### Proof of work/mining:\n",
    "\n",
    "### Transactions (peer to peer):\n",
    "\n",
    "### Transactions (peer to peer):"
   ]
  },
  {
   "cell_type": "code",
   "execution_count": 1,
   "metadata": {},
   "outputs": [],
   "source": [
    "import time"
   ]
  },
  {
   "cell_type": "code",
   "execution_count": null,
   "metadata": {},
   "outputs": [],
   "source": [
    "class Event:  # The Block\n",
    "    def __init__(self, transaction, prev_hash=None):\n",
    "        self.transaction = transaction\n",
    "        self.timestamp = time.time()\n",
    "        self.prev_hash = prev_hash\n",
    "        self.hash = self.hashing()\n",
    "        \n",
    "    def hashing(self):\n",
    "        return hash((self.transaction, self.timestamp, self.prev_hash))\n",
    "    \n",
    "\n",
    "class Transaction:\n",
    "    def __init__(self, amount, to_id, from_id):\n",
    "        self.to_id = to_id\n",
    "        self.from_id = from_id\n",
    "        self.amount = amount\n",
    "    \n",
    "    \n",
    "class Coin:  # The BlockChain\n",
    "    def __init__(self):\n",
    "        self.history = [self.create_gen_block()]\n",
    "        \n",
    "    def create_gen_block(self):\n",
    "        return Event('Genesis Event')\n",
    "    \n",
    "    def add_block(self, data):\n",
    "        self.chain.append(Event(data, self.chain[-1].hash))\n",
    "        \n",
    "    def is_valid(self):\n",
    "        for i in range(1, len(self.chain)):\n",
    "            prev = self.chain[i-1]\n",
    "            current = self.chain[i]\n",
    "            \n",
    "            if current.hash != current.hashing():\n",
    "                return False\n",
    "            \n",
    "            if current.prev_hash != prev.hashing():\n",
    "                return False\n",
    "        \n",
    "        return True\n",
    "    \n",
    "    def get_balance(id_address):\n",
    "        balance = 0\n",
    "        \n",
    "        for \n",
    "        \n",
    "    \n",
    "    def view_chain(self):\n",
    "        for block in self.chain:\n",
    "            print(vars(block))"
   ]
  }
 ],
 "metadata": {
  "kernelspec": {
   "display_name": "Python 3",
   "language": "python",
   "name": "python3"
  },
  "language_info": {
   "codemirror_mode": {
    "name": "ipython",
    "version": 3
   },
   "file_extension": ".py",
   "mimetype": "text/x-python",
   "name": "python",
   "nbconvert_exporter": "python",
   "pygments_lexer": "ipython3",
   "version": "3.7.3"
  }
 },
 "nbformat": 4,
 "nbformat_minor": 2
}
