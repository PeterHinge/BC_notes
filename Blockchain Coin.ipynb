{
 "cells": [
  {
   "cell_type": "markdown",
   "metadata": {},
   "source": [
    "# Blockchain Coin\n",
    "\n",
    "### Building a blockchain coin form scratch in Python\n",
    "\n",
    "The following is meant to be an entrance level tutorial on programming blockchains from scratch in Python 3 for those interested while at the same time serving as my personal notes.\n",
    "\n",
    "In theory anyone could follow along but if the wish of the reader is to fully understand what’s going on, I recommend a preliminary understanding of blockchains along with some coding knowledge (in particular object oriented programming). \n",
    "\n",
    "First we'll import the time module such that our blockchain can make use of timestamps."
   ]
  },
  {
   "cell_type": "code",
   "execution_count": null,
   "metadata": {},
   "outputs": [],
   "source": [
    "class Block:\n",
    "    def __init__(self, data, prev_hash=None):\n",
    "        self.data = data\n",
    "        self.timestamp = time.time()\n",
    "        self.prev_hash = prev_hash\n",
    "        self.hash = self.hashing()\n",
    "        \n",
    "    def hashing(self):\n",
    "        return hash((self.data, self.timestamp, self.prev_hash))  # Creates a hashcode.\n",
    "\n",
    "\n",
    "class BlockChain:\n",
    "    def __init__(self):\n",
    "        self.chain = [self.create_gen_block()]\n",
    "        \n",
    "    def create_gen_block(self):\n",
    "        return Block(0, 'Genesis Block')\n",
    "    \n",
    "    def add_block(self, data):\n",
    "        self.chain.append(Block(data, self.chain[-1].hash))\n",
    "        \n",
    "    def is_valid(self):\n",
    "        for i in range(1, len(self.chain)):\n",
    "            prev = self.chain[i-1]\n",
    "            current = self.chain[i]\n",
    "            \n",
    "            if current.hash != current.hashing():  # checks if any values has changed.\n",
    "                return False\n",
    "            \n",
    "            if current.prev_hash != prev.hashing():  # checks if the link has changed.\n",
    "                return False\n",
    "        \n",
    "        return True\n",
    "    \n",
    "    def view_chain(self):\n",
    "        for block in self.chain:\n",
    "            print(vars(block))"
   ]
  }
 ],
 "metadata": {
  "kernelspec": {
   "display_name": "Python 3",
   "language": "python",
   "name": "python3"
  },
  "language_info": {
   "codemirror_mode": {
    "name": "ipython",
    "version": 3
   },
   "file_extension": ".py",
   "mimetype": "text/x-python",
   "name": "python",
   "nbconvert_exporter": "python",
   "pygments_lexer": "ipython3",
   "version": "3.7.3"
  }
 },
 "nbformat": 4,
 "nbformat_minor": 2
}
