{
 "cells": [
  {
   "cell_type": "markdown",
   "metadata": {},
   "source": [
    "# Blockchain Coins \n",
    "\n",
    "### Building a blockchain coin form scratch in Python\n",
    "\n",
    "It is recommended that the reader has read Blockchain fundamentals, as the basic structure is similar just with an appropriate vocabulary. Furthermore, there are a few principles worth explaining.\n",
    "\n",
    "### Mining and proof of work:\n",
    "Mining is mostly used as a way of introducing value into the system. By 'mining' a block the 'miner' can receive some amount of currency or reward and the proof of work legitimizes that action. Usually mining works by allocating a significant amount of computing power into making a block (here we simply represent that work with the time.sleep() function). As computers become more powerful the time for a task becomes less and thus it might be useful to increase the 'difficulty' of the work or reduce the amount of currency optained from mining a block.\n",
    "\n",
    "### Transactions (peer to peer):\n",
    "The third party skipping peer to peer transactions is probably one of the most well known aspects of blockchain. We thus introduce a Transaction class to simulate this. In reality most of these processes are much more complex, however, the following provides a decent overview of how blockchain coins work."
   ]
  },
  {
   "cell_type": "code",
   "execution_count": 1,
   "metadata": {},
   "outputs": [],
   "source": [
    "import time"
   ]
  },
  {
   "cell_type": "code",
   "execution_count": 2,
   "metadata": {},
   "outputs": [],
   "source": [
    "class Event:  # The Block\n",
    "    def __init__(self, transactions, prev_hash=None):\n",
    "        self.transactions = transactions\n",
    "        self.timestamp = time.time()\n",
    "        self.prev_hash = prev_hash\n",
    "        self.hash = self.hashing()\n",
    "        \n",
    "    def hashing(self):\n",
    "        return hash((self.transactions, self.timestamp, self.prev_hash))\n",
    "    \n",
    "    def mine(self, difficulty):\n",
    "        time.sleep(difficulty)\n",
    "        print(\"Mining complete: {}\".format(str(self)))\n",
    "    \n",
    "\n",
    "class Transaction:\n",
    "    def __init__(self, amount, to_id, from_id):\n",
    "        self.amount = amount\n",
    "        self.to_id = to_id\n",
    "        self.from_id = from_id"
   ]
  },
  {
   "cell_type": "markdown",
   "metadata": {},
   "source": [
    "Now for the actual blockchain. It basically works as follows:\n",
    "\n",
    "### Pending trades:\n",
    "When a trade is made the transactions is added to a pending list awaiting the mining of a block. When a block is mined the pending transactions/trades is manifested within the block, thus validating them in the system. The miner is then paid in a new transaction, which is then added to the pending list and must await a new mining and so on.\n",
    "\n",
    "<br>Another important principle to understand is balance:\n",
    "\n",
    "### Balance:\n",
    "With blockchain the idea of balance works differently than in traditional monetary systems. Instead of having an account with a balance, the balance of a profile or id in a blockchain is calculated by going through the chain itself (thus one can't manipulate one's balance)."
   ]
  },
  {
   "cell_type": "code",
   "execution_count": 3,
   "metadata": {},
   "outputs": [],
   "source": [
    "class Coin:  # The BlockChain\n",
    "    def __init__(self):\n",
    "        self.history = [self.create_gen_event()]\n",
    "        self.pending_trades = []\n",
    "        \n",
    "        self.mining_difficulty = 2\n",
    "        self.mining_reward = 1000\n",
    "        \n",
    "        \n",
    "    def create_gen_event(self):\n",
    "        return Event('Genesis Event')\n",
    "    \n",
    "    def create_trade(transaction):\n",
    "        self.pending_trades.append(transaction)\n",
    "    \n",
    "    def mine_pending_trades(self, miner_id):  # add_block\n",
    "        new_event = Event(self.pending_trades, self.history[-1].hash)\n",
    "        new_event.mine(self.mining_difficulty)\n",
    "        self.history.append(new_event)\n",
    "        \n",
    "        # self.pending_trades is reset with miner's reward as the first new pending trade\n",
    "        self.pending_trades = [Transaction(self.mining_reward, miner_id, None)]\n",
    "        \n",
    "    def is_valid(self):\n",
    "        for i in range(1, len(self.history)):\n",
    "            prev = self.history[i-1]\n",
    "            current = self.history[i]\n",
    "            \n",
    "            if current.hash != current.hashing():\n",
    "                return False\n",
    "            \n",
    "            if current.prev_hash != prev.hashing():\n",
    "                return False\n",
    "        \n",
    "        return True\n",
    "    \n",
    "    def get_balance(id_address):\n",
    "        balance = 0\n",
    "        \n",
    "        for event in self.history:\n",
    "            for transaction in event.trasactions:\n",
    "                if transaction.to_id == id_address:\n",
    "                    balance += transaction.amount\n",
    "                if transaction.from_id == id_address:\n",
    "                    balance -= transaction.amount\n",
    "        \n",
    "        return balance\n",
    "        \n",
    "    \n",
    "    def view_history(self):\n",
    "        for event in self.history:\n",
    "            print(vars(event))"
   ]
  },
  {
   "cell_type": "markdown",
   "metadata": {},
   "source": [
    "Let's try to make a coin and do some trading and mining:"
   ]
  },
  {
   "cell_type": "code",
   "execution_count": 4,
   "metadata": {},
   "outputs": [],
   "source": [
    "random_coin = Coin()\n"
   ]
  }
 ],
 "metadata": {
  "kernelspec": {
   "display_name": "Python 3",
   "language": "python",
   "name": "python3"
  },
  "language_info": {
   "codemirror_mode": {
    "name": "ipython",
    "version": 3
   },
   "file_extension": ".py",
   "mimetype": "text/x-python",
   "name": "python",
   "nbconvert_exporter": "python",
   "pygments_lexer": "ipython3",
   "version": "3.7.3"
  }
 },
 "nbformat": 4,
 "nbformat_minor": 2
}
