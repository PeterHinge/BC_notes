{
 "cells": [
  {
   "cell_type": "markdown",
   "metadata": {},
   "source": [
    "# Blockchain currencies \n",
    "\n",
    "### Building a blockchain coin form scratch in Python\n",
    "\n",
    "It is recommended that the reader has read Blockchain fundamentals (if not already familiar with blockchain), as the basic structure is similar just with an appropriate vocabulary. Furthermore, there are a few principles worth explaining.\n",
    "\n",
    "### Mining and proof of work:\n",
    "Mining is mostly used as a way of introducing value into the system. By 'mining' a block the 'miner' can receive some amount of currency or reward and the proof of work legitimizes that action. Usually mining works by allocating a significant amount of computing power into making a block (here we simply represent that work with the time.sleep() function). As computers become more powerful the time for a task becomes less and thus it might be useful to increase the 'difficulty' of the work or reduce the amount of currency optained from mining a block.\n",
    "\n",
    "### Transactions (peer to peer):\n",
    "The third party skipping peer to peer transactions is probably one of the most well known aspects of blockchain. We thus introduce a Transaction class to simulate this. In reality most of these processes are much more complex, however, the following provides a decent overview of how blockchain coins work."
   ]
  },
  {
   "cell_type": "code",
   "execution_count": 1,
   "metadata": {},
   "outputs": [],
   "source": [
    "import time"
   ]
  },
  {
   "cell_type": "code",
   "execution_count": 2,
   "metadata": {},
   "outputs": [],
   "source": [
    "class Event:  # The Block\n",
    "    def __init__(self, transactions, prev_hash=None):\n",
    "        self.transactions = transactions\n",
    "        self.timestamp = time.time()\n",
    "        self.prev_hash = prev_hash\n",
    "        self.hash = self.hashing()\n",
    "        \n",
    "    def hashing(self):\n",
    "        trade_hashes = []\n",
    "        for transaction in self.transactions:\n",
    "            trade_hashes.append(hash((transaction.from_id, transaction.to_id, transaction.amount)))\n",
    "        return hash((tuple(trade_hashes), self.timestamp, self.prev_hash))\n",
    "    \n",
    "    def mine(self, difficulty):\n",
    "        time.sleep(difficulty)\n",
    "        print(\"Mining complete: {}\".format(str(self)))\n",
    "    \n",
    "\n",
    "class Transaction:\n",
    "    def __init__(self, from_id, to_id, amount):\n",
    "        self.from_id = from_id\n",
    "        self.to_id = to_id\n",
    "        self.amount = amount"
   ]
  },
  {
   "cell_type": "markdown",
   "metadata": {},
   "source": [
    "Now for the actual blockchain. It basically works as follows:\n",
    "\n",
    "### Pending trades:\n",
    "When a trade is made the transactions is added to a pending list awaiting the mining of a block. When a block is mined the pending transactions/trades is manifested within the block, thus validating them in the system. The miner is then paid in a new transaction, which is then added to the pending list and must await a new mining and so on.\n",
    "\n",
    "<br>Another important principle to understand is balance:\n",
    "\n",
    "### Balance:\n",
    "With blockchain the idea of balance works differently than in traditional monetary systems. Instead of having an account with a balance, the balance of a profile or id in a blockchain is calculated by going through the chain itself (thus one can't manipulate one's balance)."
   ]
  },
  {
   "cell_type": "code",
   "execution_count": 3,
   "metadata": {},
   "outputs": [],
   "source": [
    "class Coin:  # The BlockChain\n",
    "    def __init__(self):\n",
    "        self.history = [self.create_gen_event()]\n",
    "        self.pending_trades = []\n",
    "        \n",
    "        self.mining_difficulty = 2\n",
    "        self.mining_reward = 1000\n",
    "        \n",
    "        \n",
    "    def create_gen_event(self):\n",
    "        return Event([Transaction('Genesis Event', 'Genesis Event', 0)])\n",
    "    \n",
    "    def trade(self, from_id, to_id, amount):\n",
    "        self.pending_trades.append(Transaction(from_id, to_id, amount))\n",
    "    \n",
    "    def mine_pending_trades(self, miner_id):  # add_block\n",
    "        new_event = Event(self.pending_trades, self.history[-1].hash)\n",
    "        new_event.mine(self.mining_difficulty)\n",
    "        self.history.append(new_event)\n",
    "        \n",
    "        # self.pending_trades is reset with miner's reward as the first new pending trade\n",
    "        self.pending_trades = [Transaction(None, miner_id, self.mining_reward)]\n",
    "        \n",
    "    def is_valid(self):\n",
    "        for i in range(1, len(self.history)):\n",
    "            prev = self.history[i-1]\n",
    "            current = self.history[i]\n",
    "            \n",
    "            if current.hash != current.hashing():\n",
    "                return False\n",
    "            \n",
    "            if current.prev_hash != prev.hashing():\n",
    "                return False\n",
    "        \n",
    "        return True\n",
    "    \n",
    "    def get_balance(self, id_address):\n",
    "        balance = 0\n",
    "        \n",
    "        for event in self.history:\n",
    "            for transaction in event.transactions:\n",
    "                if transaction.to_id == id_address:\n",
    "                    balance += transaction.amount\n",
    "                if transaction.from_id == id_address:\n",
    "                    balance -= transaction.amount\n",
    "        \n",
    "        return balance\n",
    "        \n",
    "    \n",
    "    def view_history(self):\n",
    "        for event in self.history:\n",
    "            print(vars(event))"
   ]
  },
  {
   "cell_type": "markdown",
   "metadata": {},
   "source": [
    "Let's try to make a coin and do some trading:"
   ]
  },
  {
   "cell_type": "code",
   "execution_count": 4,
   "metadata": {},
   "outputs": [
    {
     "name": "stdout",
     "output_type": "stream",
     "text": [
      "0\n"
     ]
    }
   ],
   "source": [
    "random_coin = Coin()\n",
    "random_coin.trade('person_1', 'person_2', 100)\n",
    "random_coin.trade('person_1', 'person_3', 200)\n",
    "print(random_coin.get_balance('person_2'))"
   ]
  },
  {
   "cell_type": "markdown",
   "metadata": {},
   "source": [
    "Hmm, why does person_2 have a balance of 0? Because no mining has been perform and thus all current transactions are still pending. In order words the blockchain is still empty apart from the genesis block and an additional block is needed in order for the trades to actually become part of the chain. Let's try to mine a block then."
   ]
  },
  {
   "cell_type": "code",
   "execution_count": 5,
   "metadata": {},
   "outputs": [
    {
     "name": "stdout",
     "output_type": "stream",
     "text": [
      "Mining complete: <__main__.Event object at 0x00000217C08B7048>\n",
      "100\n",
      "0\n"
     ]
    }
   ],
   "source": [
    "random_coin.mine_pending_trades('miner_1')\n",
    "print(random_coin.get_balance('person_2'))\n",
    "print(random_coin.get_balance('miner_1'))"
   ]
  },
  {
   "cell_type": "markdown",
   "metadata": {},
   "source": [
    "Now that the transactions is validated person_2 has a balance of 100. The miner's balance meanwhile is still 0 because as before with the other transactions is now pending, waiting for the next block to be mined.\n",
    "\n",
    "Next, let's have a look of our coins history:"
   ]
  },
  {
   "cell_type": "code",
   "execution_count": 6,
   "metadata": {},
   "outputs": [
    {
     "name": "stdout",
     "output_type": "stream",
     "text": [
      "{'transactions': [<__main__.Transaction object at 0x00000217C08B7BA8>], 'timestamp': 1565205939.9254367, 'prev_hash': None, 'hash': 329821318631930327}\n",
      "{'transactions': [<__main__.Transaction object at 0x00000217C08B79B0>, <__main__.Transaction object at 0x00000217C08B78D0>], 'timestamp': 1565205939.9434261, 'prev_hash': 329821318631930327, 'hash': -2297102039303025276}\n"
     ]
    },
    {
     "data": {
      "text/plain": [
       "True"
      ]
     },
     "execution_count": 6,
     "metadata": {},
     "output_type": "execute_result"
    }
   ],
   "source": [
    "random_coin.view_history()\n",
    "random_coin.is_valid()"
   ]
  },
  {
   "cell_type": "markdown",
   "metadata": {},
   "source": [
    "As we can see we now have 2 blocks - our genesis block and our mined block with 2 transactions. We can also see that our chain is valid. Let's try tampering with our chain."
   ]
  },
  {
   "cell_type": "code",
   "execution_count": 7,
   "metadata": {},
   "outputs": [
    {
     "name": "stdout",
     "output_type": "stream",
     "text": [
      "1000000\n"
     ]
    },
    {
     "data": {
      "text/plain": [
       "False"
      ]
     },
     "execution_count": 7,
     "metadata": {},
     "output_type": "execute_result"
    }
   ],
   "source": [
    "random_coin.history[1].transactions[0].amount = 1000000\n",
    "print(random_coin.get_balance('person_2'))\n",
    "random_coin.is_valid()"
   ]
  },
  {
   "cell_type": "markdown",
   "metadata": {},
   "source": [
    "Well, we tried to make person_2 rich, but it didn't work."
   ]
  }
 ],
 "metadata": {
  "kernelspec": {
   "display_name": "Python 3",
   "language": "python",
   "name": "python3"
  },
  "language_info": {
   "codemirror_mode": {
    "name": "ipython",
    "version": 3
   },
   "file_extension": ".py",
   "mimetype": "text/x-python",
   "name": "python",
   "nbconvert_exporter": "python",
   "pygments_lexer": "ipython3",
   "version": "3.7.3"
  }
 },
 "nbformat": 4,
 "nbformat_minor": 2
}
